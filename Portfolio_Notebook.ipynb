{
  "nbformat": 4,
  "nbformat_minor": 0,
  "metadata": {
    "colab": {
      "provenance": []
    },
    "kernelspec": {
      "name": "python3",
      "display_name": "Python 3"
    },
    "language_info": {
      "name": "python"
    }
  },
  "cells": [
    {
      "cell_type": "markdown",
      "source": [
        "# Portfolio Notebook"
      ],
      "metadata": {
        "id": "OlN2ICGpq-w_"
      }
    },
    {
      "cell_type": "markdown",
      "source": [
        "The link of the Portfolio: https://github.com/TinaZ0407/Github_Repo"
      ],
      "metadata": {
        "id": "nq6MY_1XRrkF"
      }
    },
    {
      "cell_type": "markdown",
      "source": [
        "## Assignment 1:"
      ],
      "metadata": {
        "id": "Zn0RoYE_u2v4"
      }
    },
    {
      "cell_type": "markdown",
      "source": [
        "*   Dataset: The dataset is based on nationally representative samples from 2013 to 2016 and employ Gallup weights to make the estimates representative. The columns that follow the happiness score estimate how much each of six characteristics - economic productivity, social assistance, life expectancy, freedom, lack of corruption, and charity - contribute to happiness. \n",
        "*   Findings & Analysis: Firstly, even though the problem is not discussing about the relationship between independent variables, we still need to check the correlation before starting the prediction. The absolute correlation between \"GDP per capita\" and \"Social support\", \"GDP per capita\" and \"Healthy life expectancy\", \"Healthy life expectancy\" and \"region_Africa\" are all above 0.5. This will impact the ability to identify strong predictors. And there are positive relationship between Happiness and GDP per capita, Social support, Healthy life expectancy, Freedom to make life choices. The higher those features are, the higher happniess level will be, which is aligned with the correlation between variables.\n",
        "*   Models: I chose Random Forest, GradientBoostingClassifier, and Deep Learning. And Random Forest performed the best for this competition."
      ],
      "metadata": {
        "id": "q20xvMqPu23S"
      }
    },
    {
      "cell_type": "markdown",
      "source": [
        "Notebook for assignment 1: https://github.com/TinaZ0407/Github_Repo/blob/main/QMSSGR5074-HW1/HW1.ipynb"
      ],
      "metadata": {
        "id": "ge61P8kzu26V"
      }
    },
    {
      "cell_type": "markdown",
      "source": [
        "## Assignment 2:"
      ],
      "metadata": {
        "id": "3qdFsKcPTEXd"
      }
    },
    {
      "cell_type": "markdown",
      "source": [
        "*   Dataset: This paper describes the creation of a dataset of chest X-ray images for use in training machine learning models to diagnose pneumonia, including cases caused by COVID-19. The authors collected chest X-ray images from various sources and annotated them with labels indicating the presence or absence of pneumonia and the specific type of pneumonia. \n",
        "*   Models: I used Keras Convolutional Neural Net, Inception v3 model, ResNet models. It turned out that the Convolutional Neural Net performed the best, with the epochs deciding the training of the model. At the same time, I applied regularization to avoid overfitting, so I can train more times."
      ],
      "metadata": {
        "id": "RRyMuwq6TIYc"
      }
    },
    {
      "cell_type": "markdown",
      "source": [
        "Notebook for assignment 2: https://github.com/TinaZ0407/Github_Repo/blob/main/QMSSGR5074-HW2/HW2.ipynb"
      ],
      "metadata": {
        "id": "_uaTNtPnu29y"
      }
    },
    {
      "cell_type": "markdown",
      "source": [
        "## Assignment 3:"
      ],
      "metadata": {
        "id": "LNbigW0BTKTR"
      }
    },
    {
      "cell_type": "markdown",
      "source": [
        "*   Dataset: The dataset is about movie reviews with sentiment annotations. The dataset consists of  11,000 reviews for training and validation, and another 2,000 reviews for testing. Each review is labeled with a sentiment score ranging from 0 to 4, with 0 indicating the most negative sentiment and 4 indicating the most positive sentiment. Building a predictive model using this data can help businesses and organizations to monitor customer sentiment and identify areas where improvements can be made. It can also help social media platforms to automatically filter out offensive or inappropriate content, and enable them to tailor advertisements to users based on their sentiment. As a result, business companies and social media platforms can benefit from it.\n",
        "\n",
        "*   Models: I chose model with Embedding layers and LSTM layers, model with Embedding layers and Conv1d layers, and transfer learning with glove embeddings.\n",
        "Overall, Adam rather than RMSprop for the optimizer will make the models perform better. The model using transfer learning with glove embeddings worked the best in my situation with the accuracy close to 1.0000."
      ],
      "metadata": {
        "id": "KYZH4UmdTM12"
      }
    },
    {
      "cell_type": "markdown",
      "source": [
        "Notebook for assignment 3: https://github.com/TinaZ0407/Github_Repo/blob/main/QMSSGR5074-HW3/HW3.ipynb"
      ],
      "metadata": {
        "id": "pfT6u-8Xu3Bf"
      }
    }
  ]
}